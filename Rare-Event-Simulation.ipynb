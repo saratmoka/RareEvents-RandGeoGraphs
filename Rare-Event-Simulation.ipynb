{
 "cells": [
  {
   "cell_type": "markdown",
   "id": "1e6f23b0-6766-46bb-8ef6-4c86fee626c2",
   "metadata": {},
   "source": [
    "# Rare Events in Random Geometric Graphs\n",
    "\n",
    "This notebook provides estimation of rare-events on edge count in in a geometric random graph. In particular, the problem is defined as follows.\n",
    "\n",
    "Consider a $\\kappa$-homogeneous Poisson point process $\\boldsymbol X$ in the cubic window $W = [0, \\lambda]^d$. That is, $\\boldsymbol X = \\{X_1, \\dots, X_N\\}$ is set of independent and indentically distibuted points $X_i$'s and $N$ is a Poisson random bariable with rate $\\kappa \\lambda^d$. Further, let $\\mathscr G$ be the set of all possible realizations of $\\boldsymbol X$. \n",
    "\n",
    "For any $\\boldsymbol x \\in \\mathscr G$, let $G(\\boldsymbol x)$ be the graph constructed by taking the points in $\\boldsymbol x$ as nodes and connecting every two distinct points ${x, x' \\in \\boldsymbol x}$ by an edge if and only if $\\|x - x' \\| \\leq 1$, where  $\\| \\cdot \\|$ denotes the Euclidean norm in $\\mathbb{R}^d$. A random graph $G(\\boldsymbol X)$ is called a  Gilbert graph if the set of nodes $\\boldsymbol X$ constitutes a $\\kappa$-homogeneous Poisson point process in $W$ for some $\\kappa>0$.\n",
    "\n",
    "Below you see example realizations of Gilbert graphs on a 2-dimensional window $W = [0, \\lambda]^2$, where black points represent the nodes, red lines represent the edges, and each circle centered at a node has a unit radius. Small intensity $\\kappa$ typically leads to few nodes and few edges as in (a) while large $\\kappa$ typically leads to a bigger graph with more edges as in (b).\n",
    "\n",
    "<img src=\"image.png\" alt=\"Description\" width=\"600\"/>\n",
    "\n",
    "\n"
   ]
  },
  {
   "cell_type": "markdown",
   "id": "9e78b306-8118-483c-ba6e-c3d2d207deeb",
   "metadata": {},
   "source": [
    "## Rare events\n",
    "\n",
    "**Example 1 (Edge Count):** For any $\\boldsymbol x \\in \\mathscr G$,  use $\\mathsf{EC}(\\boldsymbol x)$ to denote the number of edges in $G(\\boldsymbol x)$. Furthermore, for a given threshold $\\ell \\geq 0$, let $A = \\{\\boldsymbol x \\in \\mathscr G : \\mathsf{EC}(\\boldsymbol x) \\leq \\ell \\}$ be the event of interest. Then, the  value of $ \\mathbb{P}\\left(\\boldsymbol X \\in A\\right)$, i.e., the probability that the number of edges in the Gilbert graph $G(\\boldsymbol X)$ is at most $\\ell$, can be very small for values of $\\kappa$ and $\\ell$ such that $\\ell$ is much smaller than the expected number of edges ${\\mathbb{E}\\left[ \\mathsf{EC}(\\boldsymbol X)\\right]}$.\n",
    "\n",
    "**Example 2 (Maximum Degree):** We say that two nodes of a graph are adjacent if there is an edge between them. For any $\\boldsymbol x \\in \\mathscr G$, the  degree of a node $x \\in \\boldsymbol x$ of $G(\\boldsymbol x)$, denoted by $\\mathsf{Deg}(x)$, is the number of nodes  $x' \\in \\boldsymbol x$  adjacent to $x$, i.e., such that $0<\\|x-x'\\|\\le 1$. \n",
    "The maximum degree of the graph $G(\\boldsymbol x)$ is given by\n",
    "\\begin{equation}\n",
    "\\mathsf{MD}\\left( \\boldsymbol x\\right) = \\max\\{\\mathsf{Deg}(x) : x \\in \\boldsymbol x\\}.\n",
    "\\end{equation}\n",
    "Consider the event\n",
    "$A = \\{ \\boldsymbol x \\in \\mathscr G : \\mathsf{MD}\\left( \\boldsymbol x\\right) \\leq \\ell\\}$ that the maximum degree is less than or equal to $\\ell$, for some  $\\ell \\geq 0$. Then, for values of $\\kappa$ and $\\ell$ such that $\\ell$ is much smaller than the expected maximum degree $\\mathbb{E}[\\mathsf{MD} \\left( \\boldsymbol X \\right)]$, the probability $\\mathbb{P}\\left(\\boldsymbol X \\in A\\right)$ can be very small.\n",
    "\n",
    "**Special case:** When $\\ell = 0$ in any of the above setting, $A$ becomes the set of all the configurations of the Gilbert graph with no edges, and the corresponding rare event probability $\\mathbb{P}\\left(\\boldsymbol X \\in A\\right)$ appears as the grand partition function of the popular *hard-spheres model* in grand canonical form. This model has many applications in various disciplines, including  physics, chemistry, and material science. \n",
    "\n",
    "References on hard-sphere models: \n",
    "- W. Krauth. Statistical Mechanics. Oxford University Press, 2006;\n",
    "- S. Moka, S. Juneja, and M. Mandjes. Rejection- and importance-sampling-based perfect simulation for Gibbs\n",
    "hard-sphere models. Adv. Appl. Probab., 53(3):839–885, 2021."
   ]
  },
  {
   "cell_type": "markdown",
   "id": "3f4462d0-cc0f-4c85-bd2c-3b81bd9101c8",
   "metadata": {},
   "source": [
    "## Estimation methods\n",
    "We now provide codes for estimating the above mentioned rare-events on a 2-dimensional window $W = [0, \\lambda]^2$ using three approaches:\n",
    "\n",
    "- Naive Monte Carlo;\n",
    "- Conditional Monte Carlo;\n",
    "- Importance Sampling based Monte Carlo;\n"
   ]
  },
  {
   "cell_type": "markdown",
   "id": "c8876a24-c90f-4c13-bd91-500a518bd65b",
   "metadata": {},
   "source": [
    "## Edge count rare events\n",
    "\n",
    "For rare event of Example 1 on the edge count, we load ${\\sf ec.py}$. "
   ]
  },
  {
   "cell_type": "code",
   "execution_count": 16,
   "id": "989b9b1a-184c-4948-8bed-83f98dc897a0",
   "metadata": {},
   "outputs": [],
   "source": [
    "import ec"
   ]
  },
  {
   "cell_type": "markdown",
   "id": "0d63e0e5-cde8-481a-a16e-fcf6534ccd5e",
   "metadata": {},
   "source": [
    "Specify the parameters:"
   ]
  },
  {
   "cell_type": "code",
   "execution_count": null,
   "id": "da4b5361-9caa-4daf-ae3a-afd83017961e",
   "metadata": {},
   "outputs": [],
   "source": [
    "IntRange = 1.0  # interaction range \n",
    "WindLen = 10    # side length of the window (lambda) \n",
    "Level = 0       # Theshold (ell)\n",
    "Kappa = 0.3     # Intensity of the Poisson point process "
   ]
  },
  {
   "cell_type": "markdown",
   "id": "bc156b59-67f1-4e1d-b4a9-bf2726937738",
   "metadata": {},
   "source": [
    "**Naive Monte Carlo Algorithm**"
   ]
  },
  {
   "cell_type": "code",
   "execution_count": null,
   "id": "2cb81fea-a6bf-4f3b-ad8d-999042a97fe2",
   "metadata": {},
   "outputs": [],
   "source": [
    "result_nmc = ec.naiveMC(WindLen, Kappa, IntRange, Level)\n",
    "\n",
    "print('---------------------------------------')\n",
    "print('\\t Final results (NMC)  ')\n",
    "print('---------------------------------------')\n",
    "print('Mean estimate Z (NMC):', ec.sci(result_nmc['mean']))\n",
    "if result_nmc['mean'] != 0:\n",
    "    RV_nmc = result_nmc['mse']/(result_nmc['mean']**2) - 1\n",
    "    print('Relative variance of Y (NMC):', ec.sci(RV_nmc))\n",
    "    print('Relative variance of Z (NMC):', ec.sci(RV_nmc/result_nmc['niter']))\n",
    "print('Number of copies of Y:', result_nmc['niter'])"
   ]
  },
  {
   "cell_type": "markdown",
   "id": "90d903e9-9edb-4f33-96e5-9cc7dbd62b69",
   "metadata": {},
   "source": [
    "**Conditional Monte Carlo Algorithm**"
   ]
  },
  {
   "cell_type": "code",
   "execution_count": null,
   "id": "8045b760-da0e-4d64-9ac0-13242f3ff28d",
   "metadata": {},
   "outputs": [],
   "source": [
    "result_cmc = ec.conditionalMC(WindLen, Kappa, IntRange, Level)\n",
    "\n",
    "RV_cmc = result_cmc['mse']/(result_cmc['mean']**2) - 1\n",
    "print('--------------------------------------')\n",
    "print('\\t  Final results (CMC)  \\t')\n",
    "print('--------------------------------------')\n",
    "print('Mean estimate Z (CMC):', ec.sci(result_cmc['mean']))\n",
    "print('Relative variance of Y_hat (CMC):', ec.sci(RV_cmc))\n",
    "print('Relative variance of Z (CMC):', ec.sci(RV_cmc/result_cmc['niter']))\n",
    "print('Number of copies of Y_hat:', result_cmc['niter'])"
   ]
  },
  {
   "cell_type": "markdown",
   "id": "e1bec209-dae4-49ad-b189-97a604a03146",
   "metadata": {},
   "source": [
    "**Importance Sampling based Monte Carlo Algorithm**"
   ]
  },
  {
   "cell_type": "code",
   "execution_count": null,
   "id": "88459fc2-e088-43e0-af95-402b31123b69",
   "metadata": {},
   "outputs": [],
   "source": [
    "GridRes = 20 # the number of grid cells per unit length\n",
    "\n",
    "result_ismc = ec.ISMC(WindLen, GridRes, Kappa, IntRange, Level)\n",
    "\n",
    "RV_ismc = result_ismc['mse']/(result_ismc['mean']**2) - 1\n",
    "print('-----------------------------------')\n",
    "print('\\t  Final results (IS) \\t ')\n",
    "print('-----------------------------------')\n",
    "print('Mean estimate Z (IS):', ec.sci(result_ismc['mean']))\n",
    "print('Relative variance of Y_tilde (IS):', ec.sci(RV_ismc))\n",
    "print('Relative variance of Z (IS):', ec.sci(RV_ismc/result_ismc['niter']))\n",
    "print('Number of copies of Y_tilde:', result_ismc['niter'])"
   ]
  },
  {
   "cell_type": "markdown",
   "id": "71292067-e525-40a8-ac59-ccf29f7246ad",
   "metadata": {},
   "source": [
    "## Max degree rare events\n",
    "\n",
    "For rare event of Example 2 on the maximum degree, we load ${\\sf md.py}$."
   ]
  },
  {
   "cell_type": "code",
   "execution_count": null,
   "id": "f4824d07-b5d7-4baa-b04d-df915ed3933a",
   "metadata": {},
   "outputs": [],
   "source": [
    "import md"
   ]
  },
  {
   "cell_type": "markdown",
   "id": "4984655e-bdc9-4310-8ab7-09b36de3c49c",
   "metadata": {},
   "source": [
    "Specify the parameters:"
   ]
  },
  {
   "cell_type": "code",
   "execution_count": null,
   "id": "30876bef-c72f-473c-9cff-935389ad499e",
   "metadata": {},
   "outputs": [],
   "source": [
    "IntRange = 1.0  # interaction range \n",
    "WindLen = 10    # side length of the window (lambda) \n",
    "Level = 4       # Theshold (ell)\n",
    "Kappa = 1     # Intensity of the Poisson point process "
   ]
  },
  {
   "cell_type": "markdown",
   "id": "502379b7-ce68-4907-89b7-a1065b11a308",
   "metadata": {},
   "source": [
    "**Naive Monte Carlo Algorithm**"
   ]
  },
  {
   "cell_type": "code",
   "execution_count": null,
   "id": "25236d86-e3a8-4e5e-aaf4-7082e92c4f9b",
   "metadata": {},
   "outputs": [],
   "source": [
    "result_nmc = md.naiveMC(WindLen, Kappa, IntRange, Level)\n",
    "\n",
    "print('---------------------------------------')\n",
    "print('\\t Final results (NMC)  ')\n",
    "print('---------------------------------------')\n",
    "print('Mean estimate Z (NMC):', md.sci(result_nmc['mean']))\n",
    "if result_nmc['mean'] != 0:\n",
    "    RV_nmc = result_nmc['mse']/(result_nmc['mean']**2) - 1\n",
    "    print('Relative variance of Y (NMC):', md.sci(RV_nmc))\n",
    "    print('Relative variance of Z (NMC):', md.sci(RV_nmc/result_nmc['niter']))\n",
    "print('Number of copies of Y:', result_nmc['niter'])"
   ]
  },
  {
   "cell_type": "markdown",
   "id": "04449266-de8f-41e3-b9d0-c1ce5163ea61",
   "metadata": {},
   "source": [
    "**Conditional Monte Carlo Algorithm**"
   ]
  },
  {
   "cell_type": "code",
   "execution_count": null,
   "id": "d44ef63b-4353-411c-8620-7dba2b3835ac",
   "metadata": {},
   "outputs": [],
   "source": [
    "result_cmc = md.conditionalMC(WindLen, Kappa, IntRange, Level)\n",
    "\n",
    "RV_cmc = result_cmc['mse']/(result_cmc['mean']**2) - 1\n",
    "print('--------------------------------------')\n",
    "print('\\t  Final results (CMC)  \\t')\n",
    "print('--------------------------------------')\n",
    "print('Mean estimate Z (CMC):', md.sci(result_cmc['mean']))\n",
    "print('Relative variance of Y_hat (CMC):', md.sci(RV_cmc))\n",
    "print('Relative variance of Z (CMC):', md.sci(RV_cmc/result_cmc['niter']))\n",
    "print('Number of copies of Y_hat:', result_cmc['niter'])"
   ]
  },
  {
   "cell_type": "markdown",
   "id": "916671c5-7d97-49d0-9242-d5d204f43f86",
   "metadata": {},
   "source": [
    "**Importance Sampling based Monte Carlo Algorithm**"
   ]
  },
  {
   "cell_type": "code",
   "execution_count": null,
   "id": "6b8da11f-8c34-40af-bde8-a024921f8760",
   "metadata": {},
   "outputs": [],
   "source": [
    "GridRes = 10 # the number of grid cells per unit length\n",
    "\n",
    "result_ismc = md.ISMC(WindLen, GridRes, Kappa, IntRange, Level)\n",
    "\n",
    "RV_ismc = result_ismc['mse']/(result_ismc['mean']**2) - 1\n",
    "print('-----------------------------------')\n",
    "print('\\t  Final results (IS) \\t ')\n",
    "print('-----------------------------------')\n",
    "print('Mean estimate Z (IS):', md.sci(result_ismc['mean']))\n",
    "print('Relative variance of Y_tilde (IS):', md.sci(RV_ismc))\n",
    "print('Relative variance of Z (IS):', md.sci(RV_ismc/result_ismc['niter']))\n",
    "print('Number of copies of Y_tilde:', result_ismc['niter'])"
   ]
  }
 ],
 "metadata": {
  "kernelspec": {
   "display_name": "Python 3 (ipykernel)",
   "language": "python",
   "name": "python3"
  },
  "language_info": {
   "codemirror_mode": {
    "name": "ipython",
    "version": 3
   },
   "file_extension": ".py",
   "mimetype": "text/x-python",
   "name": "python",
   "nbconvert_exporter": "python",
   "pygments_lexer": "ipython3",
   "version": "3.12.2"
  }
 },
 "nbformat": 4,
 "nbformat_minor": 5
}
